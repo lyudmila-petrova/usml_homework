{
 "cells": [
  {
   "cell_type": "markdown",
   "metadata": {},
   "source": [
    "<center>\n",
    "<img src=\"../img/ods_stickers.jpg\" />\n",
    "    \n",
    "## [mlcourse.ai](mlcourse.ai) – Open Machine Learning Course \n",
    "Author: [Yury Kashnitskiy](https://yorko.github.io) (@yorko). Edited by Anna Tarelina (@feuerengel). This material is subject to the terms and conditions of the [Creative Commons CC BY-NC-SA 4.0](https://creativecommons.org/licenses/by-nc-sa/4.0/) license. Free use is permitted for any non-commercial purpose."
   ]
  },
  {
   "cell_type": "markdown",
   "metadata": {},
   "source": [
    "# <center>Assignment #3. Fall 2018\n",
    "## <center> Decision trees for classification and regression"
   ]
  },
  {
   "cell_type": "markdown",
   "metadata": {},
   "source": [
    "**In this assignment, we will find out how a decision tree works in a regression task, then will build and tune classification decision trees for identifying heart diseases.\n",
    "Fill in the missing code in the cells marked \"You code here\" and answer the questions in the [web form](https://docs.google.com/forms/d/1hsrNFSiRsvgB27gMbXfQWpq8yzNhLZxuh_VSzRz7XhI).**"
   ]
  },
  {
   "cell_type": "code",
   "execution_count": 1,
   "metadata": {
    "collapsed": true
   },
   "outputs": [],
   "source": [
    "%matplotlib inline\n",
    "import numpy as np\n",
    "import pandas as pd\n",
    "import graphviz\n",
    "from matplotlib import pyplot as plt\n",
    "from sklearn.model_selection import train_test_split, GridSearchCV\n",
    "from sklearn.metrics import accuracy_score\n",
    "from sklearn.tree import DecisionTreeClassifier, export_graphviz"
   ]
  },
  {
   "cell_type": "markdown",
   "metadata": {},
   "source": [
    "## 1. A simple example of regression using decision trees"
   ]
  },
  {
   "cell_type": "markdown",
   "metadata": {},
   "source": [
    "Let's consider the following one-dimensional regression problem. It is needed to build the function $a(x)$ to approximate original dependency $y = f(x)$ using mean-squared error $min \\sum_i {(a(x_i) - f(x_i))}^2$."
   ]
  },
  {
   "cell_type": "code",
   "execution_count": 2,
   "metadata": {},
   "outputs": [
    {
     "data": {
      "image/png": "[encoded data removed]",
      "text/plain": [
       "<matplotlib.figure.Figure at 0x212d75e8898>"
      ]
     },
     "metadata": {},
     "output_type": "display_data"
    }
   ],
   "source": [
    "X = np.linspace(-2, 2, 7)\n",
    "y = X ** 3\n",
    "\n",
    "plt.scatter(X, y)\n",
    "plt.xlabel(r'$x$')\n",
    "plt.ylabel(r'$y$');"
   ]
  },
  {
   "cell_type": "markdown",
   "metadata": {},
   "source": [
    "Let's make several steps to build the decision tree. Let's choose the symmetric thresholds equal to 0, 1.5 and -1.5 for partitioning. In the case of a regression task, the leaf outputs mean answer for all observations in this leaf."
   ]
  },
  {
   "cell_type": "markdown",
   "metadata": {},
   "source": [
    "Let's start from tree of depth 0 that contains all train observations. How will predictions of this tree look like for $x \\in [-2, 2]$? Create the appropriate plot using a pen, paper and Python if it is needed (without using `sklearn`)."
   ]
  },
  {
   "cell_type": "code",
   "execution_count": 3,
   "metadata": {},
   "outputs": [
    {
     "data": {
      "image/png": "[encoded data removed]",
      "text/plain": [
       "<matplotlib.figure.Figure at 0x212d7741198>"
      ]
     },
     "metadata": {},
     "output_type": "display_data"
    }
   ],
   "source": [
    "leaf_prediction = X.mean()\n",
    "y2 = np.full(len(X), leaf_prediction, dtype=float)\n",
    "plt.title(\"Predictions for 0-depth decision tree (root is leaf)\")\n",
    "plt.scatter(X, y)\n",
    "plt.plot(X, y2, color='r')\n",
    "plt.xlabel(r'$x$')\n",
    "plt.ylabel(r'$y$')\n",
    "plt.show()"
   ]
  },
  {
   "cell_type": "markdown",
   "metadata": {},
   "source": [
    "Let's split the data according to the following condition $[x < 0]$. It gives us the tree of depth 1 with two leaves. Let's create a similar plot for predictions of this tree."
   ]
  },
  {
   "cell_type": "code",
   "execution_count": 4,
   "metadata": {},
   "outputs": [
    {
     "data": {
      "image/png": "[encoded data removed]",
      "text/plain": [
       "<matplotlib.figure.Figure at 0x212d7772c18>"
      ]
     },
     "metadata": {},
     "output_type": "display_data"
    }
   ],
   "source": [
    "mask = X < 0\n",
    "mask\n",
    "\n",
    "left_prediction = np.mean(y[mask])\n",
    "right_prediction = np.mean(y[~mask])\n",
    "\n",
    "plt.title(r\"Predictions for 1-depth decision tree with $[x < 0]$ condition\")\n",
    "plt.scatter(X, y)\n",
    "X1 = np.linspace(-2, 0, 10)\n",
    "y1 = np.full(len(X1), left_prediction, dtype=float)\n",
    "plt.plot(X1, y1, color='r', label=round(left_prediction, 3))\n",
    "X2 = np.linspace(0, 2, 10)\n",
    "y2 = np.full(len(X2), right_prediction, dtype=float)\n",
    "plt.plot(X2, y2, color='black', label=round(right_prediction, 3))\n",
    "plt.xlabel(r'$x$')\n",
    "plt.ylabel(r'$y$')\n",
    "plt.legend(loc='best')\n",
    "\n",
    "plt.show()"
   ]
  },
  {
   "cell_type": "markdown",
   "metadata": {},
   "source": [
    "In the decision tree algorithm, the feature and the threshold for splitting are chosen according to some criterion. The commonly used criterion for regression is based on variance: $$\\large Q(X, y, j, t) = D(X, y) - \\dfrac{|X_l|}{|X|} D(X_l, y_l) - \\dfrac{|X_r|}{|X|} D(X_r, y_r),$$\n",
    "where $\\large X$ and $\\large y$ are a feature matrix and a target vector (correspondingly) for training instances in a current node, $\\large X_l, y_l$ and $\\large X_r, y_r$ are splits of samples $\\large X, y$ into two parts w.r.t. $\\large [x_j < t]$ (by $\\large j$-th feature and threshold $\\large t$), $\\large |X|$, $\\large |X_l|$, $\\large |X_r|$ (or, the same, $\\large |y|$, $\\large |y_l|$, $\\large |y_r|$) are sizes of appropriate samples, and $\\large D(X, y)$ is variance of answers $\\large y$ for all instances in $\\large X$:\n",
    "$$\\large D(X) = \\dfrac{1}{|X|} \\sum_{j=1}^{|X|}(y_j – \\dfrac{1}{|X|}\\sum_{i = 1}^{|X|}y_i)^2$$\n",
    "Here $\\large y_i = y(x_i)$ is the answer for the $\\large x_i$ instance. Feature index $\\large j$ and threshold $\\large t$ are chosen to maximize the value of criterion  $\\large Q(X, y, j, t)$ for each split.\n",
    "\n",
    "In our 1D case,  there's only one feature so $\\large Q$ depends only on threshold $\\large t$ and training data $\\large X$ and $\\large y$. Let's designate it $\\large Q_{1d}(X, y, t)$ meaning that the criterion no longer depends on feature index $\\large j$, i.e. in 1D case $\\large j = 0$.\n",
    "\n",
    "Create the plot of criterion $\\large Q_{1d}(X, y, t)$  as a function of threshold value $t$ on the interval $[-1.9, 1.9]$."
   ]
  },
  {
   "cell_type": "code",
   "execution_count": 5,
   "metadata": {
    "collapsed": true
   },
   "outputs": [],
   "source": [
    "def regression_var_criterion(X, y, t):\n",
    "    mask = X < t\n",
    "    left = y[mask]\n",
    "    right = y[~mask]\n",
    "    \n",
    "    fn = np.var\n",
    "    \n",
    "    if len(left) == 0 or len(right) == 0:\n",
    "        return fn(y)\n",
    "    result = fn(y) - (len(left) * fn(left) + len(right) * fn(right)) / len(y)\n",
    "    return result"
   ]
  },
  {
   "cell_type": "code",
   "execution_count": 6,
   "metadata": {},
   "outputs": [
    {
     "data": {
      "image/png": "[encoded data removed]",
      "text/plain": [
       "<matplotlib.figure.Figure at 0x212d7b58da0>"
      ]
     },
     "metadata": {},
     "output_type": "display_data"
    }
   ],
   "source": [
    "T = np.linspace(-1.9, 1.9, 15)\n",
    "C = np.array([regression_var_criterion(X, y, t) for t in T])\n",
    "\n",
    "plt.title(r\"Criterion as function of threshold\")\n",
    "plt.plot(T, C, color='b')\n",
    "plt.xlabel(r'$threshold$')\n",
    "plt.ylabel(r'$criterion$')\n",
    "plt.legend(loc='best')\n",
    "\n",
    "plt.show()\n"
   ]
  },
  {
   "cell_type": "markdown",
   "metadata": {},
   "source": [
    "**<font color='red'>Question 1.</font> Is the threshold value $t = 0$ optimal according to the variance criterion?**\n",
    "- **Yes**\n",
    "- No "
   ]
  },
  {
   "cell_type": "markdown",
   "metadata": {},
   "source": [
    "Then let's make splitting in each of the leaves' nodes. In the left branch (where previous split was $x < 0$) using the criterion $[x < -1.5]$, in the right branch (where previous split was $x \\geqslant 0$) with the following criterion $[x < 1.5]$. It gives us the tree of depth 2 with 7 nodes and 4 leaves. Create the plot of these tree predictions for $x \\in [-2, 2]$."
   ]
  },
  {
   "cell_type": "code",
   "execution_count": 7,
   "metadata": {},
   "outputs": [
    {
     "name": "stdout",
     "output_type": "stream",
     "text": [
      "Prediction values: -8.0 -1.333 0.889 8.0\n"
     ]
    },
    {
     "data": {
      "image/png": "[encoded data removed]",
      "text/plain": [
       "<matplotlib.figure.Figure at 0x212d7af1320>"
      ]
     },
     "metadata": {},
     "output_type": "display_data"
    }
   ],
   "source": [
    "L_mask = X < 0\n",
    "L_L_mask = X < -1.5\n",
    "L_R_mask = L_mask & ~L_L_mask\n",
    "R_mask = ~L_mask\n",
    "R_R_mask = X >= 1.5\n",
    "R_L_mask = R_mask & ~R_R_mask\n",
    "\n",
    "L_L = np.mean(y[L_L_mask])\n",
    "L_R = np.mean(y[L_R_mask])\n",
    "R_L = np.mean(y[R_L_mask])\n",
    "R_R = np.mean(y[R_R_mask])\n",
    "\n",
    "print('Prediction values:', round(L_L, 3), round(L_R, 3), round(R_L, 3), round(R_R, 3))\n",
    "\n",
    "space = np.linspace(-2, 2, 70)\n",
    "predictions = [L_L if x < -1.5 else L_R if x < 0 else R_L if x < 1.5 else R_R for x in space]\n",
    "\n",
    "plt.title(r\"Predictions for tree depth of 2 with 7 nodes and 4 leaves\")\n",
    "plt.scatter(X, y)\n",
    "plt.plot(space, predictions, color='red', label=round(right_prediction, 3))\n",
    "plt.xlabel(r'$x$')\n",
    "plt.ylabel(r'$y$')\n",
    "plt.legend(loc='best')\n",
    "\n",
    "plt.show()"
   ]
  },
  {
   "cell_type": "markdown",
   "metadata": {},
   "source": [
    "**<font color='red'>Question 2.</font> How many segments are there on the plot of tree predictions in the interval [-2, 2] (it is necessary to count only horizontal lines)?**\n",
    "- 2\n",
    "- 3\n",
    "- **4**\n",
    "- 5"
   ]
  },
  {
   "cell_type": "markdown",
   "metadata": {},
   "source": [
    "Логически: в дереве 4 листа"
   ]
  },
  {
   "cell_type": "markdown",
   "metadata": {},
   "source": [
    "## 2. Building a decision tree for predicting heart diseases\n",
    "Let's read the data on heart diseases. The dataset can be downloaded from the course repo from [here](https://github.com/Yorko/mlcourse.ai/blob/master/data/mlbootcamp5_train.csv) by clicking on `Download` and then selecting `Save As` option.\n",
    "\n",
    "**Problem**\n",
    "\n",
    "Predict presence or absence of cardiovascular disease (CVD) using the patient examination results.\n",
    "\n",
    "**Data description**\n",
    "\n",
    "There are 3 types of input features:\n",
    "\n",
    "- *Objective*: factual information;\n",
    "- *Examination*: results of medical examination;\n",
    "- *Subjective*: information given by the patient.\n",
    "\n",
    "| Feature | Variable Type | Variable      | Value Type |\n",
    "|---------|--------------|---------------|------------|\n",
    "| Age | Objective Feature | age | int (days) |\n",
    "| Height | Objective Feature | height | int (cm) |\n",
    "| Weight | Objective Feature | weight | float (kg) |\n",
    "| Gender | Objective Feature | gender | categorical code |\n",
    "| Systolic blood pressure | Examination Feature | ap_hi | int |\n",
    "| Diastolic blood pressure | Examination Feature | ap_lo | int |\n",
    "| Cholesterol | Examination Feature | cholesterol | 1: normal, 2: above normal, 3: well above normal |\n",
    "| Glucose | Examination Feature | gluc | 1: normal, 2: above normal, 3: well above normal |\n",
    "| Smoking | Subjective Feature | smoke | binary |\n",
    "| Alcohol intake | Subjective Feature | alco | binary |\n",
    "| Physical activity | Subjective Feature | active | binary |\n",
    "| Presence or absence of cardiovascular disease | Target Variable | cardio | binary |\n",
    "\n",
    "All of the dataset values were collected at the moment of medical examination."
   ]
  },
  {
   "cell_type": "code",
   "execution_count": 8,
   "metadata": {
    "collapsed": true
   },
   "outputs": [],
   "source": [
    "df = pd.read_csv('../data/mlbootcamp5_train.csv', \n",
    "                 index_col='id', sep=';')"
   ]
  },
  {
   "cell_type": "code",
   "execution_count": 9,
   "metadata": {},
   "outputs": [
    {
     "data": {
      "text/html": [
       "<div>\n",
       "<style>\n",
       "    .dataframe thead tr:only-child th {\n",
       "        text-align: right;\n",
       "    }\n",
       "\n",
       "    .dataframe thead th {\n",
       "        text-align: left;\n",
       "    }\n",
       "\n",
       "    .dataframe tbody tr th {\n",
       "        vertical-align: top;\n",
       "    }\n",
       "</style>\n",
       "<table border=\"1\" class=\"dataframe\">\n",
       "  <thead>\n",
       "    <tr style=\"text-align: right;\">\n",
       "      <th></th>\n",
       "      <th>age</th>\n",
       "      <th>gender</th>\n",
       "      <th>height</th>\n",
       "      <th>weight</th>\n",
       "      <th>ap_hi</th>\n",
       "      <th>ap_lo</th>\n",
       "      <th>cholesterol</th>\n",
       "      <th>gluc</th>\n",
       "      <th>smoke</th>\n",
       "      <th>alco</th>\n",
       "      <th>active</th>\n",
       "      <th>cardio</th>\n",
       "    </tr>\n",
       "    <tr>\n",
       "      <th>id</th>\n",
       "      <th></th>\n",
       "      <th></th>\n",
       "      <th></th>\n",
       "      <th></th>\n",
       "      <th></th>\n",
       "      <th></th>\n",
       "      <th></th>\n",
       "      <th></th>\n",
       "      <th></th>\n",
       "      <th></th>\n",
       "      <th></th>\n",
       "      <th></th>\n",
       "    </tr>\n",
       "  </thead>\n",
       "  <tbody>\n",
       "    <tr>\n",
       "      <th>0</th>\n",
       "      <td>18393</td>\n",
       "      <td>2</td>\n",
       "      <td>168</td>\n",
       "      <td>62.0</td>\n",
       "      <td>110</td>\n",
       "      <td>80</td>\n",
       "      <td>1</td>\n",
       "      <td>1</td>\n",
       "      <td>0</td>\n",
       "      <td>0</td>\n",
       "      <td>1</td>\n",
       "      <td>0</td>\n",
       "    </tr>\n",
       "    <tr>\n",
       "      <th>1</th>\n",
       "      <td>20228</td>\n",
       "      <td>1</td>\n",
       "      <td>156</td>\n",
       "      <td>85.0</td>\n",
       "      <td>140</td>\n",
       "      <td>90</td>\n",
       "      <td>3</td>\n",
       "      <td>1</td>\n",
       "      <td>0</td>\n",
       "      <td>0</td>\n",
       "      <td>1</td>\n",
       "      <td>1</td>\n",
       "    </tr>\n",
       "    <tr>\n",
       "      <th>2</th>\n",
       "      <td>18857</td>\n",
       "      <td>1</td>\n",
       "      <td>165</td>\n",
       "      <td>64.0</td>\n",
       "      <td>130</td>\n",
       "      <td>70</td>\n",
       "      <td>3</td>\n",
       "      <td>1</td>\n",
       "      <td>0</td>\n",
       "      <td>0</td>\n",
       "      <td>0</td>\n",
       "      <td>1</td>\n",
       "    </tr>\n",
       "    <tr>\n",
       "      <th>3</th>\n",
       "      <td>17623</td>\n",
       "      <td>2</td>\n",
       "      <td>169</td>\n",
       "      <td>82.0</td>\n",
       "      <td>150</td>\n",
       "      <td>100</td>\n",
       "      <td>1</td>\n",
       "      <td>1</td>\n",
       "      <td>0</td>\n",
       "      <td>0</td>\n",
       "      <td>1</td>\n",
       "      <td>1</td>\n",
       "    </tr>\n",
       "    <tr>\n",
       "      <th>4</th>\n",
       "      <td>17474</td>\n",
       "      <td>1</td>\n",
       "      <td>156</td>\n",
       "      <td>56.0</td>\n",
       "      <td>100</td>\n",
       "      <td>60</td>\n",
       "      <td>1</td>\n",
       "      <td>1</td>\n",
       "      <td>0</td>\n",
       "      <td>0</td>\n",
       "      <td>0</td>\n",
       "      <td>0</td>\n",
       "    </tr>\n",
       "  </tbody>\n",
       "</table>\n",
       "</div>"
      ],
      "text/plain": [
       "      age  gender  height  weight  ap_hi  ap_lo  cholesterol  gluc  smoke  \\\n",
       "id                                                                          \n",
       "0   18393       2     168    62.0    110     80            1     1      0   \n",
       "1   20228       1     156    85.0    140     90            3     1      0   \n",
       "2   18857       1     165    64.0    130     70            3     1      0   \n",
       "3   17623       2     169    82.0    150    100            1     1      0   \n",
       "4   17474       1     156    56.0    100     60            1     1      0   \n",
       "\n",
       "    alco  active  cardio  \n",
       "id                        \n",
       "0      0       1       0  \n",
       "1      0       1       1  \n",
       "2      0       0       1  \n",
       "3      0       1       1  \n",
       "4      0       0       0  "
      ]
     },
     "execution_count": 9,
     "metadata": {},
     "output_type": "execute_result"
    }
   ],
   "source": [
    "df.head()"
   ]
  },
  {
   "cell_type": "markdown",
   "metadata": {},
   "source": [
    "Transform the features: create \"age in years\" (full age) and also create 3 binary features based on `cholesterol` and 3 more on `gluc`, where they are equal to 1, 2 or 3. This method is called dummy-encoding or One Hot Encoding (OHE). It is more convenient to use `pandas.get_dummmies.`. There is no need to use the original features `cholesterol` and `gluc` after encoding."
   ]
  },
  {
   "cell_type": "code",
   "execution_count": 10,
   "metadata": {
    "collapsed": true
   },
   "outputs": [],
   "source": [
    "df['age_years'] = (df['age'] / 365.25).astype(int)\n",
    "df.drop('age', axis=1, inplace=True)\n",
    "df = pd.get_dummies(df, columns=['cholesterol', 'gluc'])"
   ]
  },
  {
   "cell_type": "code",
   "execution_count": 11,
   "metadata": {
    "collapsed": true
   },
   "outputs": [],
   "source": [
    "y = df['cardio'].copy()\n",
    "df.drop('cardio', axis=1, inplace=True)\n",
    "X=df"
   ]
  },
  {
   "cell_type": "code",
   "execution_count": 12,
   "metadata": {},
   "outputs": [
    {
     "data": {
      "text/plain": [
       "Index(['gender', 'height', 'weight', 'ap_hi', 'ap_lo', 'smoke', 'alco',\n",
       "       'active', 'age_years', 'cholesterol_1', 'cholesterol_2',\n",
       "       'cholesterol_3', 'gluc_1', 'gluc_2', 'gluc_3'],\n",
       "      dtype='object')"
      ]
     },
     "execution_count": 12,
     "metadata": {},
     "output_type": "execute_result"
    }
   ],
   "source": [
    "X.columns"
   ]
  },
  {
   "cell_type": "markdown",
   "metadata": {},
   "source": [
    "Split data into train and holdout parts in the proportion of 7/3 using `sklearn.model_selection.train_test_split` with `random_state=17`."
   ]
  },
  {
   "cell_type": "code",
   "execution_count": 13,
   "metadata": {
    "collapsed": true
   },
   "outputs": [],
   "source": [
    "X_train, X_test, y_train, y_test = train_test_split(X, y, test_size=0.3, random_state=17)"
   ]
  },
  {
   "cell_type": "markdown",
   "metadata": {},
   "source": [
    "Train the decision tree on the dataset `(X_train, y_train)` with max depth equals to 3 and `random_state=17`. Plot this tree with `sklearn.tree.export_graphviz`, `dot` and `pydot`. You don't need to use quotes in the file names in order to make it work in a jupyter notebook. The commands starting from the exclamation mark are terminal commands that are usually run in terminal/command line."
   ]
  },
  {
   "cell_type": "code",
   "execution_count": 14,
   "metadata": {},
   "outputs": [
    {
     "data": {
      "text/plain": [
       "DecisionTreeClassifier(class_weight=None, criterion='gini', max_depth=3,\n",
       "            max_features=None, max_leaf_nodes=None,\n",
       "            min_impurity_decrease=0.0, min_impurity_split=None,\n",
       "            min_samples_leaf=1, min_samples_split=2,\n",
       "            min_weight_fraction_leaf=0.0, presort=False, random_state=17,\n",
       "            splitter='best')"
      ]
     },
     "execution_count": 14,
     "metadata": {},
     "output_type": "execute_result"
    }
   ],
   "source": [
    "clf_tree = DecisionTreeClassifier(max_depth=3, random_state=17)\n",
    "clf_tree.fit(X_train, y_train)"
   ]
  },
  {
   "cell_type": "code",
   "execution_count": 145,
   "metadata": {},
   "outputs": [
    {
     "data": {
      "image/svg+xml": [
       "<?xml version=\"1.0\" encoding=\"UTF-8\" standalone=\"no\"?>\r\n",
       "<!DOCTYPE svg PUBLIC \"-//W3C//DTD SVG 1.1//EN\"\r\n",
       " \"http://www.w3.org/Graphics/SVG/1.1/DTD/svg11.dtd\">\r\n",
       "<!-- Generated by graphviz version 2.38.0 (20140413.2041)\r\n",
       " -->\r\n",
       "<!-- Title: Tree Pages: 1 -->\r\n",
       "<svg width=\"1153pt\" height=\"373pt\"\r\n",
       " viewBox=\"0.00 0.00 1152.50 373.00\" xmlns=\"http://www.w3.org/2000/svg\" xmlns:xlink=\"http://www.w3.org/1999/xlink\">\r\n",
       "<g id=\"graph0\" class=\"graph\" transform=\"scale(1 1) rotate(0) translate(4 369)\">\r\n",
       "<title>Tree</title>\r\n",
       "<polygon fill=\"white\" stroke=\"none\" points=\"-4,4 -4,-369 1148.5,-369 1148.5,4 -4,4\"/>\r\n",
       "<!-- 0 -->\r\n",
       "<g id=\"node1\" class=\"node\"><title>0</title>\r\n",
       "<polygon fill=\"#e58139\" fill-opacity=\"0.003922\" stroke=\"black\" points=\"644.5,-365 499.5,-365 499.5,-297 644.5,-297 644.5,-365\"/>\r\n",
       "<text text-anchor=\"middle\" x=\"572\" y=\"-349.8\" font-family=\"Times New Roman,serif\" font-size=\"14.00\">ap_hi &lt;= 129.5</text>\r\n",
       "<text text-anchor=\"middle\" x=\"572\" y=\"-334.8\" font-family=\"Times New Roman,serif\" font-size=\"14.00\">gini = 0.5</text>\r\n",
       "<text text-anchor=\"middle\" x=\"572\" y=\"-319.8\" font-family=\"Times New Roman,serif\" font-size=\"14.00\">samples = 49000</text>\r\n",
       "<text text-anchor=\"middle\" x=\"572\" y=\"-304.8\" font-family=\"Times New Roman,serif\" font-size=\"14.00\">value = [24531, 24469]</text>\r\n",
       "</g>\r\n",
       "<!-- 1 -->\r\n",
       "<g id=\"node2\" class=\"node\"><title>1</title>\r\n",
       "<polygon fill=\"#e58139\" fill-opacity=\"0.537255\" stroke=\"black\" points=\"534,-261 396,-261 396,-193 534,-193 534,-261\"/>\r\n",
       "<text text-anchor=\"middle\" x=\"465\" y=\"-245.8\" font-family=\"Times New Roman,serif\" font-size=\"14.00\">age_years &lt;= 54.5</text>\r\n",
       "<text text-anchor=\"middle\" x=\"465\" y=\"-230.8\" font-family=\"Times New Roman,serif\" font-size=\"14.00\">gini = 0.433</text>\r\n",
       "<text text-anchor=\"middle\" x=\"465\" y=\"-215.8\" font-family=\"Times New Roman,serif\" font-size=\"14.00\">samples = 28925</text>\r\n",
       "<text text-anchor=\"middle\" x=\"465\" y=\"-200.8\" font-family=\"Times New Roman,serif\" font-size=\"14.00\">value = [19758, 9167]</text>\r\n",
       "</g>\r\n",
       "<!-- 0&#45;&gt;1 -->\r\n",
       "<g id=\"edge1\" class=\"edge\"><title>0&#45;&gt;1</title>\r\n",
       "<path fill=\"none\" stroke=\"black\" d=\"M537.26,-296.884C527.729,-287.798 517.289,-277.845 507.381,-268.4\"/>\r\n",
       "<polygon fill=\"black\" stroke=\"black\" points=\"509.585,-265.666 499.932,-261.299 504.755,-270.733 509.585,-265.666\"/>\r\n",
       "<text text-anchor=\"middle\" x=\"500.53\" y=\"-282.592\" font-family=\"Times New Roman,serif\" font-size=\"14.00\">True</text>\r\n",
       "</g>\r\n",
       "<!-- 8 -->\r\n",
       "<g id=\"node9\" class=\"node\"><title>8</title>\r\n",
       "<polygon fill=\"#399de5\" fill-opacity=\"0.686275\" stroke=\"black\" points=\"749,-261 611,-261 611,-193 749,-193 749,-261\"/>\r\n",
       "<text text-anchor=\"middle\" x=\"680\" y=\"-245.8\" font-family=\"Times New Roman,serif\" font-size=\"14.00\">ap_hi &lt;= 138.5</text>\r\n",
       "<text text-anchor=\"middle\" x=\"680\" y=\"-230.8\" font-family=\"Times New Roman,serif\" font-size=\"14.00\">gini = 0.362</text>\r\n",
       "<text text-anchor=\"middle\" x=\"680\" y=\"-215.8\" font-family=\"Times New Roman,serif\" font-size=\"14.00\">samples = 20075</text>\r\n",
       "<text text-anchor=\"middle\" x=\"680\" y=\"-200.8\" font-family=\"Times New Roman,serif\" font-size=\"14.00\">value = [4773, 15302]</text>\r\n",
       "</g>\r\n",
       "<!-- 0&#45;&gt;8 -->\r\n",
       "<g id=\"edge8\" class=\"edge\"><title>0&#45;&gt;8</title>\r\n",
       "<path fill=\"none\" stroke=\"black\" d=\"M607.065,-296.884C616.684,-287.798 627.222,-277.845 637.223,-268.4\"/>\r\n",
       "<polygon fill=\"black\" stroke=\"black\" points=\"639.875,-270.71 644.742,-261.299 635.069,-265.621 639.875,-270.71\"/>\r\n",
       "<text text-anchor=\"middle\" x=\"644.028\" y=\"-282.589\" font-family=\"Times New Roman,serif\" font-size=\"14.00\">False</text>\r\n",
       "</g>\r\n",
       "<!-- 2 -->\r\n",
       "<g id=\"node3\" class=\"node\"><title>2</title>\r\n",
       "<polygon fill=\"#e58139\" fill-opacity=\"0.690196\" stroke=\"black\" points=\"284,-157 146,-157 146,-89 284,-89 284,-157\"/>\r\n",
       "<text text-anchor=\"middle\" x=\"215\" y=\"-141.8\" font-family=\"Times New Roman,serif\" font-size=\"14.00\">cholesterol_3 &lt;= 0.5</text>\r\n",
       "<text text-anchor=\"middle\" x=\"215\" y=\"-126.8\" font-family=\"Times New Roman,serif\" font-size=\"14.00\">gini = 0.361</text>\r\n",
       "<text text-anchor=\"middle\" x=\"215\" y=\"-111.8\" font-family=\"Times New Roman,serif\" font-size=\"14.00\">samples = 17891</text>\r\n",
       "<text text-anchor=\"middle\" x=\"215\" y=\"-96.8\" font-family=\"Times New Roman,serif\" font-size=\"14.00\">value = [13664, 4227]</text>\r\n",
       "</g>\r\n",
       "<!-- 1&#45;&gt;2 -->\r\n",
       "<g id=\"edge2\" class=\"edge\"><title>1&#45;&gt;2</title>\r\n",
       "<path fill=\"none\" stroke=\"black\" d=\"M395.693,-197.723C363.996,-184.791 326.294,-169.408 293.55,-156.048\"/>\r\n",
       "<polygon fill=\"black\" stroke=\"black\" points=\"294.59,-152.693 284.008,-152.155 291.945,-159.174 294.59,-152.693\"/>\r\n",
       "</g>\r\n",
       "<!-- 5 -->\r\n",
       "<g id=\"node6\" class=\"node\"><title>5</title>\r\n",
       "<polygon fill=\"#e58139\" fill-opacity=\"0.188235\" stroke=\"black\" points=\"531.5,-157 398.5,-157 398.5,-89 531.5,-89 531.5,-157\"/>\r\n",
       "<text text-anchor=\"middle\" x=\"465\" y=\"-141.8\" font-family=\"Times New Roman,serif\" font-size=\"14.00\">cholesterol_3 &lt;= 0.5</text>\r\n",
       "<text text-anchor=\"middle\" x=\"465\" y=\"-126.8\" font-family=\"Times New Roman,serif\" font-size=\"14.00\">gini = 0.495</text>\r\n",
       "<text text-anchor=\"middle\" x=\"465\" y=\"-111.8\" font-family=\"Times New Roman,serif\" font-size=\"14.00\">samples = 11034</text>\r\n",
       "<text text-anchor=\"middle\" x=\"465\" y=\"-96.8\" font-family=\"Times New Roman,serif\" font-size=\"14.00\">value = [6094, 4940]</text>\r\n",
       "</g>\r\n",
       "<!-- 1&#45;&gt;5 -->\r\n",
       "<g id=\"edge5\" class=\"edge\"><title>1&#45;&gt;5</title>\r\n",
       "<path fill=\"none\" stroke=\"black\" d=\"M465,-192.884C465,-184.778 465,-175.982 465,-167.472\"/>\r\n",
       "<polygon fill=\"black\" stroke=\"black\" points=\"468.5,-167.299 465,-157.299 461.5,-167.299 468.5,-167.299\"/>\r\n",
       "</g>\r\n",
       "<!-- 3 -->\r\n",
       "<g id=\"node4\" class=\"node\"><title>3</title>\r\n",
       "<polygon fill=\"#e58139\" fill-opacity=\"0.717647\" stroke=\"black\" points=\"138,-53 0,-53 0,-0 138,-0 138,-53\"/>\r\n",
       "<text text-anchor=\"middle\" x=\"69\" y=\"-37.8\" font-family=\"Times New Roman,serif\" font-size=\"14.00\">gini = 0.345</text>\r\n",
       "<text text-anchor=\"middle\" x=\"69\" y=\"-22.8\" font-family=\"Times New Roman,serif\" font-size=\"14.00\">samples = 17130</text>\r\n",
       "<text text-anchor=\"middle\" x=\"69\" y=\"-7.8\" font-family=\"Times New Roman,serif\" font-size=\"14.00\">value = [13338, 3792]</text>\r\n",
       "</g>\r\n",
       "<!-- 2&#45;&gt;3 -->\r\n",
       "<g id=\"edge3\" class=\"edge\"><title>2&#45;&gt;3</title>\r\n",
       "<path fill=\"none\" stroke=\"black\" d=\"M163.936,-88.9485C148.814,-79.1601 132.306,-68.4756 117.36,-58.8015\"/>\r\n",
       "<polygon fill=\"black\" stroke=\"black\" points=\"119.059,-55.7322 108.763,-53.2367 115.256,-61.6087 119.059,-55.7322\"/>\r\n",
       "</g>\r\n",
       "<!-- 4 -->\r\n",
       "<g id=\"node5\" class=\"node\"><title>4</title>\r\n",
       "<polygon fill=\"#399de5\" fill-opacity=\"0.250980\" stroke=\"black\" points=\"274,-53 156,-53 156,-0 274,-0 274,-53\"/>\r\n",
       "<text text-anchor=\"middle\" x=\"215\" y=\"-37.8\" font-family=\"Times New Roman,serif\" font-size=\"14.00\">gini = 0.49</text>\r\n",
       "<text text-anchor=\"middle\" x=\"215\" y=\"-22.8\" font-family=\"Times New Roman,serif\" font-size=\"14.00\">samples = 761</text>\r\n",
       "<text text-anchor=\"middle\" x=\"215\" y=\"-7.8\" font-family=\"Times New Roman,serif\" font-size=\"14.00\">value = [326, 435]</text>\r\n",
       "</g>\r\n",
       "<!-- 2&#45;&gt;4 -->\r\n",
       "<g id=\"edge4\" class=\"edge\"><title>2&#45;&gt;4</title>\r\n",
       "<path fill=\"none\" stroke=\"black\" d=\"M215,-88.9485C215,-80.7153 215,-71.848 215,-63.4814\"/>\r\n",
       "<polygon fill=\"black\" stroke=\"black\" points=\"218.5,-63.2367 215,-53.2367 211.5,-63.2367 218.5,-63.2367\"/>\r\n",
       "</g>\r\n",
       "<!-- 6 -->\r\n",
       "<g id=\"node7\" class=\"node\"><title>6</title>\r\n",
       "<polygon fill=\"#e58139\" fill-opacity=\"0.286275\" stroke=\"black\" points=\"423.5,-53 292.5,-53 292.5,-0 423.5,-0 423.5,-53\"/>\r\n",
       "<text text-anchor=\"middle\" x=\"358\" y=\"-37.8\" font-family=\"Times New Roman,serif\" font-size=\"14.00\">gini = 0.486</text>\r\n",
       "<text text-anchor=\"middle\" x=\"358\" y=\"-22.8\" font-family=\"Times New Roman,serif\" font-size=\"14.00\">samples = 9881</text>\r\n",
       "<text text-anchor=\"middle\" x=\"358\" y=\"-7.8\" font-family=\"Times New Roman,serif\" font-size=\"14.00\">value = [5762, 4119]</text>\r\n",
       "</g>\r\n",
       "<!-- 5&#45;&gt;6 -->\r\n",
       "<g id=\"edge6\" class=\"edge\"><title>5&#45;&gt;6</title>\r\n",
       "<path fill=\"none\" stroke=\"black\" d=\"M427.577,-88.9485C416.908,-79.526 405.299,-69.2731 394.675,-59.8906\"/>\r\n",
       "<polygon fill=\"black\" stroke=\"black\" points=\"396.953,-57.2331 387.141,-53.2367 392.319,-62.4798 396.953,-57.2331\"/>\r\n",
       "</g>\r\n",
       "<!-- 7 -->\r\n",
       "<g id=\"node8\" class=\"node\"><title>7</title>\r\n",
       "<polygon fill=\"#399de5\" fill-opacity=\"0.596078\" stroke=\"black\" points=\"560,-53 442,-53 442,-0 560,-0 560,-53\"/>\r\n",
       "<text text-anchor=\"middle\" x=\"501\" y=\"-37.8\" font-family=\"Times New Roman,serif\" font-size=\"14.00\">gini = 0.41</text>\r\n",
       "<text text-anchor=\"middle\" x=\"501\" y=\"-22.8\" font-family=\"Times New Roman,serif\" font-size=\"14.00\">samples = 1153</text>\r\n",
       "<text text-anchor=\"middle\" x=\"501\" y=\"-7.8\" font-family=\"Times New Roman,serif\" font-size=\"14.00\">value = [332, 821]</text>\r\n",
       "</g>\r\n",
       "<!-- 5&#45;&gt;7 -->\r\n",
       "<g id=\"edge7\" class=\"edge\"><title>5&#45;&gt;7</title>\r\n",
       "<path fill=\"none\" stroke=\"black\" d=\"M477.591,-88.9485C480.832,-80.4408 484.331,-71.2562 487.611,-62.6464\"/>\r\n",
       "<polygon fill=\"black\" stroke=\"black\" points=\"490.906,-63.8276 491.196,-53.2367 484.365,-61.3356 490.906,-63.8276\"/>\r\n",
       "</g>\r\n",
       "<!-- 9 -->\r\n",
       "<g id=\"node10\" class=\"node\"><title>9</title>\r\n",
       "<polygon fill=\"#399de5\" fill-opacity=\"0.345098\" stroke=\"black\" points=\"746.5,-157 613.5,-157 613.5,-89 746.5,-89 746.5,-157\"/>\r\n",
       "<text text-anchor=\"middle\" x=\"680\" y=\"-141.8\" font-family=\"Times New Roman,serif\" font-size=\"14.00\">cholesterol_3 &lt;= 0.5</text>\r\n",
       "<text text-anchor=\"middle\" x=\"680\" y=\"-126.8\" font-family=\"Times New Roman,serif\" font-size=\"14.00\">gini = 0.478</text>\r\n",
       "<text text-anchor=\"middle\" x=\"680\" y=\"-111.8\" font-family=\"Times New Roman,serif\" font-size=\"14.00\">samples = 6522</text>\r\n",
       "<text text-anchor=\"middle\" x=\"680\" y=\"-96.8\" font-family=\"Times New Roman,serif\" font-size=\"14.00\">value = [2580, 3942]</text>\r\n",
       "</g>\r\n",
       "<!-- 8&#45;&gt;9 -->\r\n",
       "<g id=\"edge9\" class=\"edge\"><title>8&#45;&gt;9</title>\r\n",
       "<path fill=\"none\" stroke=\"black\" d=\"M680,-192.884C680,-184.778 680,-175.982 680,-167.472\"/>\r\n",
       "<polygon fill=\"black\" stroke=\"black\" points=\"683.5,-167.299 680,-157.299 676.5,-167.299 683.5,-167.299\"/>\r\n",
       "</g>\r\n",
       "<!-- 12 -->\r\n",
       "<g id=\"node13\" class=\"node\"><title>12</title>\r\n",
       "<polygon fill=\"#399de5\" fill-opacity=\"0.807843\" stroke=\"black\" points=\"1005,-157 867,-157 867,-89 1005,-89 1005,-157\"/>\r\n",
       "<text text-anchor=\"middle\" x=\"936\" y=\"-141.8\" font-family=\"Times New Roman,serif\" font-size=\"14.00\">ap_hi &lt;= 149.5</text>\r\n",
       "<text text-anchor=\"middle\" x=\"936\" y=\"-126.8\" font-family=\"Times New Roman,serif\" font-size=\"14.00\">gini = 0.271</text>\r\n",
       "<text text-anchor=\"middle\" x=\"936\" y=\"-111.8\" font-family=\"Times New Roman,serif\" font-size=\"14.00\">samples = 13553</text>\r\n",
       "<text text-anchor=\"middle\" x=\"936\" y=\"-96.8\" font-family=\"Times New Roman,serif\" font-size=\"14.00\">value = [2193, 11360]</text>\r\n",
       "</g>\r\n",
       "<!-- 8&#45;&gt;12 -->\r\n",
       "<g id=\"edge12\" class=\"edge\"><title>8&#45;&gt;12</title>\r\n",
       "<path fill=\"none\" stroke=\"black\" d=\"M749.277,-198.397C782.574,-185.131 822.639,-169.167 857.105,-155.435\"/>\r\n",
       "<polygon fill=\"black\" stroke=\"black\" points=\"858.673,-158.578 866.667,-151.625 856.082,-152.075 858.673,-158.578\"/>\r\n",
       "</g>\r\n",
       "<!-- 10 -->\r\n",
       "<g id=\"node11\" class=\"node\"><title>10</title>\r\n",
       "<polygon fill=\"#399de5\" fill-opacity=\"0.207843\" stroke=\"black\" points=\"709.5,-53 578.5,-53 578.5,-0 709.5,-0 709.5,-53\"/>\r\n",
       "<text text-anchor=\"middle\" x=\"644\" y=\"-37.8\" font-family=\"Times New Roman,serif\" font-size=\"14.00\">gini = 0.493</text>\r\n",
       "<text text-anchor=\"middle\" x=\"644\" y=\"-22.8\" font-family=\"Times New Roman,serif\" font-size=\"14.00\">samples = 5258</text>\r\n",
       "<text text-anchor=\"middle\" x=\"644\" y=\"-7.8\" font-family=\"Times New Roman,serif\" font-size=\"14.00\">value = [2325, 2933]</text>\r\n",
       "</g>\r\n",
       "<!-- 9&#45;&gt;10 -->\r\n",
       "<g id=\"edge10\" class=\"edge\"><title>9&#45;&gt;10</title>\r\n",
       "<path fill=\"none\" stroke=\"black\" d=\"M667.409,-88.9485C664.168,-80.4408 660.669,-71.2562 657.389,-62.6464\"/>\r\n",
       "<polygon fill=\"black\" stroke=\"black\" points=\"660.635,-61.3356 653.804,-53.2367 654.094,-63.8276 660.635,-61.3356\"/>\r\n",
       "</g>\r\n",
       "<!-- 11 -->\r\n",
       "<g id=\"node12\" class=\"node\"><title>11</title>\r\n",
       "<polygon fill=\"#399de5\" fill-opacity=\"0.749020\" stroke=\"black\" points=\"852.5,-53 727.5,-53 727.5,-0 852.5,-0 852.5,-53\"/>\r\n",
       "<text text-anchor=\"middle\" x=\"790\" y=\"-37.8\" font-family=\"Times New Roman,serif\" font-size=\"14.00\">gini = 0.322</text>\r\n",
       "<text text-anchor=\"middle\" x=\"790\" y=\"-22.8\" font-family=\"Times New Roman,serif\" font-size=\"14.00\">samples = 1264</text>\r\n",
       "<text text-anchor=\"middle\" x=\"790\" y=\"-7.8\" font-family=\"Times New Roman,serif\" font-size=\"14.00\">value = [255, 1009]</text>\r\n",
       "</g>\r\n",
       "<!-- 9&#45;&gt;11 -->\r\n",
       "<g id=\"edge11\" class=\"edge\"><title>9&#45;&gt;11</title>\r\n",
       "<path fill=\"none\" stroke=\"black\" d=\"M718.473,-88.9485C729.441,-79.526 741.375,-69.2731 752.297,-59.8906\"/>\r\n",
       "<polygon fill=\"black\" stroke=\"black\" points=\"754.737,-62.408 760.042,-53.2367 750.176,-57.0983 754.737,-62.408\"/>\r\n",
       "</g>\r\n",
       "<!-- 13 -->\r\n",
       "<g id=\"node14\" class=\"node\"><title>13</title>\r\n",
       "<polygon fill=\"#399de5\" fill-opacity=\"0.772549\" stroke=\"black\" points=\"1001.5,-53 870.5,-53 870.5,-0 1001.5,-0 1001.5,-53\"/>\r\n",
       "<text text-anchor=\"middle\" x=\"936\" y=\"-37.8\" font-family=\"Times New Roman,serif\" font-size=\"14.00\">gini = 0.301</text>\r\n",
       "<text text-anchor=\"middle\" x=\"936\" y=\"-22.8\" font-family=\"Times New Roman,serif\" font-size=\"14.00\">samples = 6864</text>\r\n",
       "<text text-anchor=\"middle\" x=\"936\" y=\"-7.8\" font-family=\"Times New Roman,serif\" font-size=\"14.00\">value = [1267, 5597]</text>\r\n",
       "</g>\r\n",
       "<!-- 12&#45;&gt;13 -->\r\n",
       "<g id=\"edge13\" class=\"edge\"><title>12&#45;&gt;13</title>\r\n",
       "<path fill=\"none\" stroke=\"black\" d=\"M936,-88.9485C936,-80.7153 936,-71.848 936,-63.4814\"/>\r\n",
       "<polygon fill=\"black\" stroke=\"black\" points=\"939.5,-63.2367 936,-53.2367 932.5,-63.2367 939.5,-63.2367\"/>\r\n",
       "</g>\r\n",
       "<!-- 14 -->\r\n",
       "<g id=\"node15\" class=\"node\"><title>14</title>\r\n",
       "<polygon fill=\"#399de5\" fill-opacity=\"0.839216\" stroke=\"black\" points=\"1144.5,-53 1019.5,-53 1019.5,-0 1144.5,-0 1144.5,-53\"/>\r\n",
       "<text text-anchor=\"middle\" x=\"1082\" y=\"-37.8\" font-family=\"Times New Roman,serif\" font-size=\"14.00\">gini = 0.239</text>\r\n",
       "<text text-anchor=\"middle\" x=\"1082\" y=\"-22.8\" font-family=\"Times New Roman,serif\" font-size=\"14.00\">samples = 6689</text>\r\n",
       "<text text-anchor=\"middle\" x=\"1082\" y=\"-7.8\" font-family=\"Times New Roman,serif\" font-size=\"14.00\">value = [926, 5763]</text>\r\n",
       "</g>\r\n",
       "<!-- 12&#45;&gt;14 -->\r\n",
       "<g id=\"edge14\" class=\"edge\"><title>12&#45;&gt;14</title>\r\n",
       "<path fill=\"none\" stroke=\"black\" d=\"M987.064,-88.9485C1002.19,-79.1601 1018.69,-68.4756 1033.64,-58.8015\"/>\r\n",
       "<polygon fill=\"black\" stroke=\"black\" points=\"1035.74,-61.6087 1042.24,-53.2367 1031.94,-55.7322 1035.74,-61.6087\"/>\r\n",
       "</g>\r\n",
       "</g>\r\n",
       "</svg>\r\n"
      ],
      "text/plain": [
       "<graphviz.files.Source at 0x17f4ac18b38>"
      ]
     },
     "execution_count": 145,
     "metadata": {},
     "output_type": "execute_result"
    }
   ],
   "source": [
    "dot_data = export_graphviz(clf_tree, feature_names=X_train.columns, out_file=None, filled=True)\n",
    "graph = graphviz.Source(dot_data)\n",
    "graph"
   ]
  },
  {
   "cell_type": "markdown",
   "metadata": {},
   "source": [
    "**<font color='red'>Question 3.</font> What 3 features are used to make predictions in the created decision tree?**\n",
    "- weight, height, gluc=3\n",
    "- smoke, age, gluc=3\n",
    "- age, weight, chol=3\n",
    "- **age, ap_hi, chol=3**"
   ]
  },
  {
   "cell_type": "markdown",
   "metadata": {},
   "source": [
    "Make predictions for holdout data `(X_valid, y_valid)` with the trained decision tree. Calculate accuracy."
   ]
  },
  {
   "cell_type": "code",
   "execution_count": 15,
   "metadata": {},
   "outputs": [
    {
     "name": "stdout",
     "output_type": "stream",
     "text": [
      "Train set accuracy: 0.721\n"
     ]
    }
   ],
   "source": [
    "acc1 = accuracy_score(y_test, clf_tree.predict(X_test))\n",
    "print(\"Train set accuracy: {:.3f}\".format(acc1))"
   ]
  },
  {
   "cell_type": "markdown",
   "metadata": {},
   "source": [
    "Set up the depth of the tree using cross-validation on the dataset `(X_train, y_train)` in order to increase quality of the model. Use `GridSearchCV` with 5 folds. Fix `random_state=17` and change  `max_depth` from 2 to 10."
   ]
  },
  {
   "cell_type": "code",
   "execution_count": 16,
   "metadata": {},
   "outputs": [
    {
     "name": "stdout",
     "output_type": "stream",
     "text": [
      "Fitting 5 folds for each of 9 candidates, totalling 45 fits\n"
     ]
    },
    {
     "name": "stderr",
     "output_type": "stream",
     "text": [
      "[Parallel(n_jobs=-1)]: Done  45 out of  45 | elapsed:   38.9s finished\n"
     ]
    },
    {
     "data": {
      "text/plain": [
       "GridSearchCV(cv=5, error_score='raise',\n",
       "       estimator=DecisionTreeClassifier(class_weight=None, criterion='gini', max_depth=None,\n",
       "            max_features=None, max_leaf_nodes=None,\n",
       "            min_impurity_decrease=0.0, min_impurity_split=None,\n",
       "            min_samples_leaf=1, min_samples_split=2,\n",
       "            min_weight_fraction_leaf=0.0, presort=False, random_state=17,\n",
       "            splitter='best'),\n",
       "       fit_params=None, iid=True, n_jobs=-1,\n",
       "       param_grid={'max_depth': [2, 3, 4, 5, 6, 7, 8, 9, 10]},\n",
       "       pre_dispatch='2*n_jobs', refit=True, return_train_score=True,\n",
       "       scoring=None, verbose=True)"
      ]
     },
     "execution_count": 16,
     "metadata": {},
     "output_type": "execute_result"
    }
   ],
   "source": [
    "tree_params = {'max_depth': list(range(2, 11))}\n",
    "tree = DecisionTreeClassifier(random_state=17)\n",
    "\n",
    "tree_grid = GridSearchCV(tree, tree_params, cv=5, n_jobs=-1, verbose=True, return_train_score=True)\n",
    "tree_grid.fit(X_train, y_train)"
   ]
  },
  {
   "cell_type": "markdown",
   "metadata": {},
   "source": [
    "Draw the plot to show how mean accuracy is changing in regards to `max_depth` value on cross-validation."
   ]
  },
  {
   "cell_type": "code",
   "execution_count": 17,
   "metadata": {},
   "outputs": [
    {
     "data": {
      "image/png": "[encoded data removed]",
      "text/plain": [
       "<matplotlib.figure.Figure at 0x212d7bb6b70>"
      ]
     },
     "metadata": {},
     "output_type": "display_data"
    }
   ],
   "source": [
    "results = tree_grid.cv_results_\n",
    "\n",
    "plt.xlabel(\"max_depth\")\n",
    "plt.ylabel(\"accuracy\")\n",
    "\n",
    "x = results['param_max_depth'].data\n",
    "y = results['mean_test_score'].data\n",
    "plt.plot(x, y, linestyle='-.', marker='x', color='red')\n",
    "plt.show()"
   ]
  },
  {
   "cell_type": "markdown",
   "metadata": {},
   "source": [
    "Print the best value of `max_depth` where the mean value of cross-validation quality metric reaches maximum. Also compute accuracy on holdout data. All these computations are possible to make using the trained instance of the class `GridSearchCV`."
   ]
  },
  {
   "cell_type": "code",
   "execution_count": 18,
   "metadata": {},
   "outputs": [
    {
     "data": {
      "text/plain": [
       "{'max_depth': 6}"
      ]
     },
     "execution_count": 18,
     "metadata": {},
     "output_type": "execute_result"
    }
   ],
   "source": [
    "tree_grid.best_params_"
   ]
  },
  {
   "cell_type": "code",
   "execution_count": 19,
   "metadata": {},
   "outputs": [
    {
     "name": "stdout",
     "output_type": "stream",
     "text": [
      "Test set accuracy: 0.726\n"
     ]
    }
   ],
   "source": [
    "best_estimator = tree_grid.best_estimator_\n",
    "\n",
    "test_predictions = best_estimator.predict(X_test)\n",
    "acc2 = accuracy_score(y_test, test_predictions)\n",
    "print(\"Test set accuracy: {:.3f}\".format(acc2))"
   ]
  },
  {
   "cell_type": "code",
   "execution_count": 20,
   "metadata": {},
   "outputs": [
    {
     "name": "stdout",
     "output_type": "stream",
     "text": [
      "GridSearchCV tuning result of max_depth (%): 0.607380999538\n"
     ]
    }
   ],
   "source": [
    "print('GridSearchCV tuning result of max_depth (%):', (acc2 - acc1) / acc1 * 100)"
   ]
  },
  {
   "cell_type": "markdown",
   "metadata": {},
   "source": [
    "**<font color='red'>Question 4.</font> Is there a local maximum of accuracy on the built validation curve? Did `GridSearchCV` help to tune `max_depth` so that there's been at least 1% change in holdout accuracy?**\n",
    "(check out the expression (acc2 - acc1) / acc1 * 100%, where acc1 and acc2 are accuracies on holdout data before and after tuning `max_depth` with `GridSearchCV` respectively)?\n",
    "- yes, yes\n",
    "- **yes, no**\n",
    "- no, yes\n",
    "- no, no"
   ]
  },
  {
   "cell_type": "markdown",
   "metadata": {},
   "source": [
    "Take a look at the SCORE table to estimate ten-year risk of fatal cardiovascular disease in Europe. [Source paper](https://academic.oup.com/eurheartj/article/24/11/987/427645).\n",
    "\n",
    "<img src='../img/SCORE2007-eng.png' width=70%>\n",
    "\n",
    "Create binary features according to this picture:\n",
    "- $age \\in [40,50), \\ldots age \\in [60,65) $ (4 features)\n",
    "- systolic blood pressure: $ap\\_hi \\in [120,140), ap\\_hi \\in [140,160), ap\\_hi \\in [160,180),$ (3 features)\n",
    "\n",
    "If the values of age or blood pressure don't fall into any of the intervals then all binary features will be equal to zero. Then we create decision tree with these features and additional ``smoke``, ``cholesterol``  and ``gender`` features. Transform the ``cholesterol`` to 3 binary features according to it's 3 unique values ( ``cholesterol``=1,  ``cholesterol``=2 and  ``cholesterol``=3). This method is called dummy-encoding or One Hot Encoding (OHE). Transform the ``gender`` from 1 and 2 into 0 and 1. It is better to rename it to ``male`` (0 – woman, 1 – man). In general, this is typically done with ``sklearn.preprocessing.LabelEncoder`` but here in case of only 2 unique values it's not necessary.\n",
    "\n",
    "Finally the decision tree is built using 12 binary features (without original features).\n",
    "\n",
    "Create a decision tree with the limitation `max_depth=3` and train it on the whole train data. Use the `DecisionTreeClassifier` class with fixed `random_state=17`, but all other arguments (except for `max_depth` and `random_state`) should be set by default.\n",
    "\n",
    "**<font color='red'>Question 5.</font> What binary feature is the most important for heart disease detection (it is placed in the root of the tree)?**\n",
    "- Systolic blood pressure from 160 to 180 (mmHg)\n",
    "- Gender male / female\n",
    "- **Systolic blood pressure from 140 to 160 (mmHg)**\n",
    "- Age from 50 to 55 (years)\n",
    "- Smokes / doesn't smoke\n",
    "- Age from 60 to 65 (years)"
   ]
  },
  {
   "cell_type": "code",
   "execution_count": 21,
   "metadata": {
    "collapsed": true
   },
   "outputs": [],
   "source": [
    "df = pd.read_csv('../data/mlbootcamp5_train.csv', \n",
    "                 index_col='id', sep=';')\n",
    "\n",
    "df['age_years'] = (df['age'] / 365.25).astype(int)\n",
    "df = pd.get_dummies(df, columns=['cholesterol'])"
   ]
  },
  {
   "cell_type": "code",
   "execution_count": 22,
   "metadata": {},
   "outputs": [
    {
     "data": {
      "text/plain": [
       "((70000, 12), (70000,))"
      ]
     },
     "execution_count": 22,
     "metadata": {},
     "output_type": "execute_result"
    }
   ],
   "source": [
    "y = df['cardio'].copy()\n",
    "\n",
    "df2 = pd.DataFrame()\n",
    "\n",
    "df2['male'] = df['gender'] - 1\n",
    "\n",
    "years = [(40, 50), (50, 55), (55, 60), (60, 65)]\n",
    "for low, hi in years:\n",
    "    df2[f\"age_{low}_{hi}\"] = ((df['age_years'] >=low) & (df['age_years'] < hi)).astype(int)\n",
    "    \n",
    "pressure = [(120, 140), (140, 160), (160, 180)]\n",
    "for ap_min, ap_max in pressure:\n",
    "    df2[f\"ap_hi_{ap_min}_{ap_max}\"] = ((df['ap_hi'] >=ap_min) & (df['ap_hi'] < ap_max)).astype(int)\n",
    "    \n",
    "df2 = df2.join(df.iloc[:,df.columns.str.startswith('cholesterol').copy()])\n",
    "\n",
    "df2['smoke'] = df['smoke'].copy()\n",
    "\n",
    "df2.shape, y.shape"
   ]
  },
  {
   "cell_type": "code",
   "execution_count": 23,
   "metadata": {
    "collapsed": true
   },
   "outputs": [],
   "source": [
    "X_train, X_test, y_train, y_test = train_test_split(df2, df['cardio'], test_size=0.3, random_state=17)"
   ]
  },
  {
   "cell_type": "code",
   "execution_count": 24,
   "metadata": {},
   "outputs": [
    {
     "data": {
      "text/plain": [
       "DecisionTreeClassifier(class_weight=None, criterion='gini', max_depth=3,\n",
       "            max_features=None, max_leaf_nodes=None,\n",
       "            min_impurity_decrease=0.0, min_impurity_split=None,\n",
       "            min_samples_leaf=1, min_samples_split=2,\n",
       "            min_weight_fraction_leaf=0.0, presort=False, random_state=17,\n",
       "            splitter='best')"
      ]
     },
     "execution_count": 24,
     "metadata": {},
     "output_type": "execute_result"
    }
   ],
   "source": [
    "heart_tree = DecisionTreeClassifier(max_depth=3, random_state=17)\n",
    "heart_tree.fit(X_train, y_train)"
   ]
  },
  {
   "cell_type": "code",
   "execution_count": 25,
   "metadata": {},
   "outputs": [
    {
     "data": {
      "image/svg+xml": [
       "<?xml version=\"1.0\" encoding=\"UTF-8\" standalone=\"no\"?>\r\n",
       "<!DOCTYPE svg PUBLIC \"-//W3C//DTD SVG 1.1//EN\"\r\n",
       " \"http://www.w3.org/Graphics/SVG/1.1/DTD/svg11.dtd\">\r\n",
       "<!-- Generated by graphviz version 2.38.0 (20140413.2041)\r\n",
       " -->\r\n",
       "<!-- Title: Tree Pages: 1 -->\r\n",
       "<svg width=\"1140pt\" height=\"373pt\"\r\n",
       " viewBox=\"0.00 0.00 1140.00 373.00\" xmlns=\"http://www.w3.org/2000/svg\" xmlns:xlink=\"http://www.w3.org/1999/xlink\">\r\n",
       "<g id=\"graph0\" class=\"graph\" transform=\"scale(1 1) rotate(0) translate(4 369)\">\r\n",
       "<title>Tree</title>\r\n",
       "<polygon fill=\"white\" stroke=\"none\" points=\"-4,4 -4,-369 1136,-369 1136,4 -4,4\"/>\r\n",
       "<!-- 0 -->\r\n",
       "<g id=\"node1\" class=\"node\"><title>0</title>\r\n",
       "<polygon fill=\"#e58139\" fill-opacity=\"0.003922\" stroke=\"black\" points=\"644,-365 499,-365 499,-297 644,-297 644,-365\"/>\r\n",
       "<text text-anchor=\"middle\" x=\"571.5\" y=\"-349.8\" font-family=\"Times New Roman,serif\" font-size=\"14.00\">ap_hi_140_160 &lt;= 0.5</text>\r\n",
       "<text text-anchor=\"middle\" x=\"571.5\" y=\"-334.8\" font-family=\"Times New Roman,serif\" font-size=\"14.00\">gini = 0.5</text>\r\n",
       "<text text-anchor=\"middle\" x=\"571.5\" y=\"-319.8\" font-family=\"Times New Roman,serif\" font-size=\"14.00\">samples = 49000</text>\r\n",
       "<text text-anchor=\"middle\" x=\"571.5\" y=\"-304.8\" font-family=\"Times New Roman,serif\" font-size=\"14.00\">value = [24531, 24469]</text>\r\n",
       "</g>\r\n",
       "<!-- 1 -->\r\n",
       "<g id=\"node2\" class=\"node\"><title>1</title>\r\n",
       "<polygon fill=\"#e58139\" fill-opacity=\"0.290196\" stroke=\"black\" points=\"540,-261 395,-261 395,-193 540,-193 540,-261\"/>\r\n",
       "<text text-anchor=\"middle\" x=\"467.5\" y=\"-245.8\" font-family=\"Times New Roman,serif\" font-size=\"14.00\">ap_hi_160_180 &lt;= 0.5</text>\r\n",
       "<text text-anchor=\"middle\" x=\"467.5\" y=\"-230.8\" font-family=\"Times New Roman,serif\" font-size=\"14.00\">gini = 0.485</text>\r\n",
       "<text text-anchor=\"middle\" x=\"467.5\" y=\"-215.8\" font-family=\"Times New Roman,serif\" font-size=\"14.00\">samples = 38935</text>\r\n",
       "<text text-anchor=\"middle\" x=\"467.5\" y=\"-200.8\" font-family=\"Times New Roman,serif\" font-size=\"14.00\">value = [22795, 16140]</text>\r\n",
       "</g>\r\n",
       "<!-- 0&#45;&gt;1 -->\r\n",
       "<g id=\"edge1\" class=\"edge\"><title>0&#45;&gt;1</title>\r\n",
       "<path fill=\"none\" stroke=\"black\" d=\"M537.734,-296.884C528.471,-287.798 518.323,-277.845 508.693,-268.4\"/>\r\n",
       "<polygon fill=\"black\" stroke=\"black\" points=\"511.042,-265.803 501.452,-261.299 506.141,-270.8 511.042,-265.803\"/>\r\n",
       "<text text-anchor=\"middle\" x=\"501.695\" y=\"-282.598\" font-family=\"Times New Roman,serif\" font-size=\"14.00\">True</text>\r\n",
       "</g>\r\n",
       "<!-- 8 -->\r\n",
       "<g id=\"node9\" class=\"node\"><title>8</title>\r\n",
       "<polygon fill=\"#399de5\" fill-opacity=\"0.792157\" stroke=\"black\" points=\"742,-261 611,-261 611,-193 742,-193 742,-261\"/>\r\n",
       "<text text-anchor=\"middle\" x=\"676.5\" y=\"-245.8\" font-family=\"Times New Roman,serif\" font-size=\"14.00\">age_55_60 &lt;= 0.5</text>\r\n",
       "<text text-anchor=\"middle\" x=\"676.5\" y=\"-230.8\" font-family=\"Times New Roman,serif\" font-size=\"14.00\">gini = 0.285</text>\r\n",
       "<text text-anchor=\"middle\" x=\"676.5\" y=\"-215.8\" font-family=\"Times New Roman,serif\" font-size=\"14.00\">samples = 10065</text>\r\n",
       "<text text-anchor=\"middle\" x=\"676.5\" y=\"-200.8\" font-family=\"Times New Roman,serif\" font-size=\"14.00\">value = [1736, 8329]</text>\r\n",
       "</g>\r\n",
       "<!-- 0&#45;&gt;8 -->\r\n",
       "<g id=\"edge8\" class=\"edge\"><title>0&#45;&gt;8</title>\r\n",
       "<path fill=\"none\" stroke=\"black\" d=\"M605.59,-296.884C614.943,-287.798 625.188,-277.845 634.911,-268.4\"/>\r\n",
       "<polygon fill=\"black\" stroke=\"black\" points=\"637.487,-270.778 642.221,-261.299 632.61,-265.757 637.487,-270.778\"/>\r\n",
       "<text text-anchor=\"middle\" x=\"641.859\" y=\"-282.597\" font-family=\"Times New Roman,serif\" font-size=\"14.00\">False</text>\r\n",
       "</g>\r\n",
       "<!-- 2 -->\r\n",
       "<g id=\"node3\" class=\"node\"><title>2</title>\r\n",
       "<polygon fill=\"#e58139\" fill-opacity=\"0.388235\" stroke=\"black\" points=\"298,-157 153,-157 153,-89 298,-89 298,-157\"/>\r\n",
       "<text text-anchor=\"middle\" x=\"225.5\" y=\"-141.8\" font-family=\"Times New Roman,serif\" font-size=\"14.00\">cholesterol_3 &lt;= 0.5</text>\r\n",
       "<text text-anchor=\"middle\" x=\"225.5\" y=\"-126.8\" font-family=\"Times New Roman,serif\" font-size=\"14.00\">gini = 0.471</text>\r\n",
       "<text text-anchor=\"middle\" x=\"225.5\" y=\"-111.8\" font-family=\"Times New Roman,serif\" font-size=\"14.00\">samples = 36205</text>\r\n",
       "<text text-anchor=\"middle\" x=\"225.5\" y=\"-96.8\" font-family=\"Times New Roman,serif\" font-size=\"14.00\">value = [22437, 13768]</text>\r\n",
       "</g>\r\n",
       "<!-- 1&#45;&gt;2 -->\r\n",
       "<g id=\"edge2\" class=\"edge\"><title>1&#45;&gt;2</title>\r\n",
       "<path fill=\"none\" stroke=\"black\" d=\"M394.892,-195.397C367.374,-183.798 335.857,-170.514 307.53,-158.575\"/>\r\n",
       "<polygon fill=\"black\" stroke=\"black\" points=\"308.631,-155.241 298.057,-154.582 305.912,-161.691 308.631,-155.241\"/>\r\n",
       "</g>\r\n",
       "<!-- 5 -->\r\n",
       "<g id=\"node6\" class=\"node\"><title>5</title>\r\n",
       "<polygon fill=\"#399de5\" fill-opacity=\"0.850980\" stroke=\"black\" points=\"530,-157 405,-157 405,-89 530,-89 530,-157\"/>\r\n",
       "<text text-anchor=\"middle\" x=\"467.5\" y=\"-141.8\" font-family=\"Times New Roman,serif\" font-size=\"14.00\">age_40_50 &lt;= 0.5</text>\r\n",
       "<text text-anchor=\"middle\" x=\"467.5\" y=\"-126.8\" font-family=\"Times New Roman,serif\" font-size=\"14.00\">gini = 0.228</text>\r\n",
       "<text text-anchor=\"middle\" x=\"467.5\" y=\"-111.8\" font-family=\"Times New Roman,serif\" font-size=\"14.00\">samples = 2730</text>\r\n",
       "<text text-anchor=\"middle\" x=\"467.5\" y=\"-96.8\" font-family=\"Times New Roman,serif\" font-size=\"14.00\">value = [358, 2372]</text>\r\n",
       "</g>\r\n",
       "<!-- 1&#45;&gt;5 -->\r\n",
       "<g id=\"edge5\" class=\"edge\"><title>1&#45;&gt;5</title>\r\n",
       "<path fill=\"none\" stroke=\"black\" d=\"M467.5,-192.884C467.5,-184.778 467.5,-175.982 467.5,-167.472\"/>\r\n",
       "<polygon fill=\"black\" stroke=\"black\" points=\"471,-167.299 467.5,-157.299 464,-167.299 471,-167.299\"/>\r\n",
       "</g>\r\n",
       "<!-- 3 -->\r\n",
       "<g id=\"node4\" class=\"node\"><title>3</title>\r\n",
       "<polygon fill=\"#e58139\" fill-opacity=\"0.470588\" stroke=\"black\" points=\"145,-53 0,-53 0,-0 145,-0 145,-53\"/>\r\n",
       "<text text-anchor=\"middle\" x=\"72.5\" y=\"-37.8\" font-family=\"Times New Roman,serif\" font-size=\"14.00\">gini = 0.453</text>\r\n",
       "<text text-anchor=\"middle\" x=\"72.5\" y=\"-22.8\" font-family=\"Times New Roman,serif\" font-size=\"14.00\">samples = 32880</text>\r\n",
       "<text text-anchor=\"middle\" x=\"72.5\" y=\"-7.8\" font-family=\"Times New Roman,serif\" font-size=\"14.00\">value = [21502, 11378]</text>\r\n",
       "</g>\r\n",
       "<!-- 2&#45;&gt;3 -->\r\n",
       "<g id=\"edge3\" class=\"edge\"><title>2&#45;&gt;3</title>\r\n",
       "<path fill=\"none\" stroke=\"black\" d=\"M171.988,-88.9485C155.992,-79.0686 138.518,-68.2758 122.74,-58.5305\"/>\r\n",
       "<polygon fill=\"black\" stroke=\"black\" points=\"124.516,-55.5139 114.169,-53.2367 120.838,-61.4695 124.516,-55.5139\"/>\r\n",
       "</g>\r\n",
       "<!-- 4 -->\r\n",
       "<g id=\"node5\" class=\"node\"><title>4</title>\r\n",
       "<polygon fill=\"#399de5\" fill-opacity=\"0.607843\" stroke=\"black\" points=\"288,-53 163,-53 163,-0 288,-0 288,-53\"/>\r\n",
       "<text text-anchor=\"middle\" x=\"225.5\" y=\"-37.8\" font-family=\"Times New Roman,serif\" font-size=\"14.00\">gini = 0.404</text>\r\n",
       "<text text-anchor=\"middle\" x=\"225.5\" y=\"-22.8\" font-family=\"Times New Roman,serif\" font-size=\"14.00\">samples = 3325</text>\r\n",
       "<text text-anchor=\"middle\" x=\"225.5\" y=\"-7.8\" font-family=\"Times New Roman,serif\" font-size=\"14.00\">value = [935, 2390]</text>\r\n",
       "</g>\r\n",
       "<!-- 2&#45;&gt;4 -->\r\n",
       "<g id=\"edge4\" class=\"edge\"><title>2&#45;&gt;4</title>\r\n",
       "<path fill=\"none\" stroke=\"black\" d=\"M225.5,-88.9485C225.5,-80.7153 225.5,-71.848 225.5,-63.4814\"/>\r\n",
       "<polygon fill=\"black\" stroke=\"black\" points=\"229,-63.2367 225.5,-53.2367 222,-63.2367 229,-63.2367\"/>\r\n",
       "</g>\r\n",
       "<!-- 6 -->\r\n",
       "<g id=\"node7\" class=\"node\"><title>6</title>\r\n",
       "<polygon fill=\"#399de5\" fill-opacity=\"0.843137\" stroke=\"black\" points=\"431,-53 306,-53 306,-0 431,-0 431,-53\"/>\r\n",
       "<text text-anchor=\"middle\" x=\"368.5\" y=\"-37.8\" font-family=\"Times New Roman,serif\" font-size=\"14.00\">gini = 0.234</text>\r\n",
       "<text text-anchor=\"middle\" x=\"368.5\" y=\"-22.8\" font-family=\"Times New Roman,serif\" font-size=\"14.00\">samples = 2210</text>\r\n",
       "<text text-anchor=\"middle\" x=\"368.5\" y=\"-7.8\" font-family=\"Times New Roman,serif\" font-size=\"14.00\">value = [299, 1911]</text>\r\n",
       "</g>\r\n",
       "<!-- 5&#45;&gt;6 -->\r\n",
       "<g id=\"edge6\" class=\"edge\"><title>5&#45;&gt;6</title>\r\n",
       "<path fill=\"none\" stroke=\"black\" d=\"M432.875,-88.9485C423.099,-79.6175 412.471,-69.4722 402.72,-60.1641\"/>\r\n",
       "<polygon fill=\"black\" stroke=\"black\" points=\"405.113,-57.6097 395.462,-53.2367 400.279,-62.6732 405.113,-57.6097\"/>\r\n",
       "</g>\r\n",
       "<!-- 7 -->\r\n",
       "<g id=\"node8\" class=\"node\"><title>7</title>\r\n",
       "<polygon fill=\"#399de5\" fill-opacity=\"0.870588\" stroke=\"black\" points=\"560,-53 449,-53 449,-0 560,-0 560,-53\"/>\r\n",
       "<text text-anchor=\"middle\" x=\"504.5\" y=\"-37.8\" font-family=\"Times New Roman,serif\" font-size=\"14.00\">gini = 0.201</text>\r\n",
       "<text text-anchor=\"middle\" x=\"504.5\" y=\"-22.8\" font-family=\"Times New Roman,serif\" font-size=\"14.00\">samples = 520</text>\r\n",
       "<text text-anchor=\"middle\" x=\"504.5\" y=\"-7.8\" font-family=\"Times New Roman,serif\" font-size=\"14.00\">value = [59, 461]</text>\r\n",
       "</g>\r\n",
       "<!-- 5&#45;&gt;7 -->\r\n",
       "<g id=\"edge7\" class=\"edge\"><title>5&#45;&gt;7</title>\r\n",
       "<path fill=\"none\" stroke=\"black\" d=\"M480.441,-88.9485C483.772,-80.4408 487.368,-71.2562 490.739,-62.6464\"/>\r\n",
       "<polygon fill=\"black\" stroke=\"black\" points=\"494.036,-63.8245 494.423,-53.2367 487.518,-61.2723 494.036,-63.8245\"/>\r\n",
       "</g>\r\n",
       "<!-- 9 -->\r\n",
       "<g id=\"node10\" class=\"node\"><title>9</title>\r\n",
       "<polygon fill=\"#399de5\" fill-opacity=\"0.800000\" stroke=\"black\" points=\"742,-157 611,-157 611,-89 742,-89 742,-157\"/>\r\n",
       "<text text-anchor=\"middle\" x=\"676.5\" y=\"-141.8\" font-family=\"Times New Roman,serif\" font-size=\"14.00\">age_50_55 &lt;= 0.5</text>\r\n",
       "<text text-anchor=\"middle\" x=\"676.5\" y=\"-126.8\" font-family=\"Times New Roman,serif\" font-size=\"14.00\">gini = 0.276</text>\r\n",
       "<text text-anchor=\"middle\" x=\"676.5\" y=\"-111.8\" font-family=\"Times New Roman,serif\" font-size=\"14.00\">samples = 7078</text>\r\n",
       "<text text-anchor=\"middle\" x=\"676.5\" y=\"-96.8\" font-family=\"Times New Roman,serif\" font-size=\"14.00\">value = [1171, 5907]</text>\r\n",
       "</g>\r\n",
       "<!-- 8&#45;&gt;9 -->\r\n",
       "<g id=\"edge9\" class=\"edge\"><title>8&#45;&gt;9</title>\r\n",
       "<path fill=\"none\" stroke=\"black\" d=\"M676.5,-192.884C676.5,-184.778 676.5,-175.982 676.5,-167.472\"/>\r\n",
       "<polygon fill=\"black\" stroke=\"black\" points=\"680,-167.299 676.5,-157.299 673,-167.299 680,-167.299\"/>\r\n",
       "</g>\r\n",
       "<!-- 12 -->\r\n",
       "<g id=\"node13\" class=\"node\"><title>12</title>\r\n",
       "<polygon fill=\"#399de5\" fill-opacity=\"0.768627\" stroke=\"black\" points=\"993,-157 860,-157 860,-89 993,-89 993,-157\"/>\r\n",
       "<text text-anchor=\"middle\" x=\"926.5\" y=\"-141.8\" font-family=\"Times New Roman,serif\" font-size=\"14.00\">cholesterol_1 &lt;= 0.5</text>\r\n",
       "<text text-anchor=\"middle\" x=\"926.5\" y=\"-126.8\" font-family=\"Times New Roman,serif\" font-size=\"14.00\">gini = 0.307</text>\r\n",
       "<text text-anchor=\"middle\" x=\"926.5\" y=\"-111.8\" font-family=\"Times New Roman,serif\" font-size=\"14.00\">samples = 2987</text>\r\n",
       "<text text-anchor=\"middle\" x=\"926.5\" y=\"-96.8\" font-family=\"Times New Roman,serif\" font-size=\"14.00\">value = [565, 2422]</text>\r\n",
       "</g>\r\n",
       "<!-- 8&#45;&gt;12 -->\r\n",
       "<g id=\"edge12\" class=\"edge\"><title>8&#45;&gt;12</title>\r\n",
       "<path fill=\"none\" stroke=\"black\" d=\"M742.185,-199.201C775.376,-185.659 815.831,-169.153 850.375,-155.059\"/>\r\n",
       "<polygon fill=\"black\" stroke=\"black\" points=\"852.014,-158.17 859.951,-151.152 849.37,-151.689 852.014,-158.17\"/>\r\n",
       "</g>\r\n",
       "<!-- 10 -->\r\n",
       "<g id=\"node11\" class=\"node\"><title>10</title>\r\n",
       "<polygon fill=\"#399de5\" fill-opacity=\"0.811765\" stroke=\"black\" points=\"703,-53 578,-53 578,-0 703,-0 703,-53\"/>\r\n",
       "<text text-anchor=\"middle\" x=\"640.5\" y=\"-37.8\" font-family=\"Times New Roman,serif\" font-size=\"14.00\">gini = 0.267</text>\r\n",
       "<text text-anchor=\"middle\" x=\"640.5\" y=\"-22.8\" font-family=\"Times New Roman,serif\" font-size=\"14.00\">samples = 4726</text>\r\n",
       "<text text-anchor=\"middle\" x=\"640.5\" y=\"-7.8\" font-family=\"Times New Roman,serif\" font-size=\"14.00\">value = [750, 3976]</text>\r\n",
       "</g>\r\n",
       "<!-- 9&#45;&gt;10 -->\r\n",
       "<g id=\"edge10\" class=\"edge\"><title>9&#45;&gt;10</title>\r\n",
       "<path fill=\"none\" stroke=\"black\" d=\"M663.909,-88.9485C660.668,-80.4408 657.169,-71.2562 653.889,-62.6464\"/>\r\n",
       "<polygon fill=\"black\" stroke=\"black\" points=\"657.135,-61.3356 650.304,-53.2367 650.594,-63.8276 657.135,-61.3356\"/>\r\n",
       "</g>\r\n",
       "<!-- 11 -->\r\n",
       "<g id=\"node12\" class=\"node\"><title>11</title>\r\n",
       "<polygon fill=\"#399de5\" fill-opacity=\"0.780392\" stroke=\"black\" points=\"846,-53 721,-53 721,-0 846,-0 846,-53\"/>\r\n",
       "<text text-anchor=\"middle\" x=\"783.5\" y=\"-37.8\" font-family=\"Times New Roman,serif\" font-size=\"14.00\">gini = 0.294</text>\r\n",
       "<text text-anchor=\"middle\" x=\"783.5\" y=\"-22.8\" font-family=\"Times New Roman,serif\" font-size=\"14.00\">samples = 2352</text>\r\n",
       "<text text-anchor=\"middle\" x=\"783.5\" y=\"-7.8\" font-family=\"Times New Roman,serif\" font-size=\"14.00\">value = [421, 1931]</text>\r\n",
       "</g>\r\n",
       "<!-- 9&#45;&gt;11 -->\r\n",
       "<g id=\"edge11\" class=\"edge\"><title>9&#45;&gt;11</title>\r\n",
       "<path fill=\"none\" stroke=\"black\" d=\"M713.923,-88.9485C724.592,-79.526 736.201,-69.2731 746.825,-59.8906\"/>\r\n",
       "<polygon fill=\"black\" stroke=\"black\" points=\"749.181,-62.4798 754.359,-53.2367 744.547,-57.2331 749.181,-62.4798\"/>\r\n",
       "</g>\r\n",
       "<!-- 13 -->\r\n",
       "<g id=\"node14\" class=\"node\"><title>13</title>\r\n",
       "<polygon fill=\"#399de5\" fill-opacity=\"0.811765\" stroke=\"black\" points=\"989,-53 864,-53 864,-0 989,-0 989,-53\"/>\r\n",
       "<text text-anchor=\"middle\" x=\"926.5\" y=\"-37.8\" font-family=\"Times New Roman,serif\" font-size=\"14.00\">gini = 0.268</text>\r\n",
       "<text text-anchor=\"middle\" x=\"926.5\" y=\"-22.8\" font-family=\"Times New Roman,serif\" font-size=\"14.00\">samples = 1192</text>\r\n",
       "<text text-anchor=\"middle\" x=\"926.5\" y=\"-7.8\" font-family=\"Times New Roman,serif\" font-size=\"14.00\">value = [190, 1002]</text>\r\n",
       "</g>\r\n",
       "<!-- 12&#45;&gt;13 -->\r\n",
       "<g id=\"edge13\" class=\"edge\"><title>12&#45;&gt;13</title>\r\n",
       "<path fill=\"none\" stroke=\"black\" d=\"M926.5,-88.9485C926.5,-80.7153 926.5,-71.848 926.5,-63.4814\"/>\r\n",
       "<polygon fill=\"black\" stroke=\"black\" points=\"930,-63.2367 926.5,-53.2367 923,-63.2367 930,-63.2367\"/>\r\n",
       "</g>\r\n",
       "<!-- 14 -->\r\n",
       "<g id=\"node15\" class=\"node\"><title>14</title>\r\n",
       "<polygon fill=\"#399de5\" fill-opacity=\"0.737255\" stroke=\"black\" points=\"1132,-53 1007,-53 1007,-0 1132,-0 1132,-53\"/>\r\n",
       "<text text-anchor=\"middle\" x=\"1069.5\" y=\"-37.8\" font-family=\"Times New Roman,serif\" font-size=\"14.00\">gini = 0.331</text>\r\n",
       "<text text-anchor=\"middle\" x=\"1069.5\" y=\"-22.8\" font-family=\"Times New Roman,serif\" font-size=\"14.00\">samples = 1795</text>\r\n",
       "<text text-anchor=\"middle\" x=\"1069.5\" y=\"-7.8\" font-family=\"Times New Roman,serif\" font-size=\"14.00\">value = [375, 1420]</text>\r\n",
       "</g>\r\n",
       "<!-- 12&#45;&gt;14 -->\r\n",
       "<g id=\"edge14\" class=\"edge\"><title>12&#45;&gt;14</title>\r\n",
       "<path fill=\"none\" stroke=\"black\" d=\"M976.514,-88.9485C991.326,-79.1601 1007.49,-68.4756 1022.13,-58.8015\"/>\r\n",
       "<polygon fill=\"black\" stroke=\"black\" points=\"1024.14,-61.6701 1030.55,-53.2367 1020.28,-55.83 1024.14,-61.6701\"/>\r\n",
       "</g>\r\n",
       "</g>\r\n",
       "</svg>\r\n"
      ],
      "text/plain": [
       "<graphviz.files.Source at 0x212d7b7e080>"
      ]
     },
     "execution_count": 25,
     "metadata": {},
     "output_type": "execute_result"
    }
   ],
   "source": [
    "dot_data = export_graphviz(heart_tree, feature_names=X_train.columns, out_file=None, filled=True)\n",
    "graph = graphviz.Source(dot_data)\n",
    "graph"
   ]
  },
  {
   "cell_type": "code",
   "execution_count": null,
   "metadata": {
    "collapsed": true
   },
   "outputs": [],
   "source": []
  }
 ],
 "metadata": {
  "kernelspec": {
   "display_name": "Python 3",
   "language": "python",
   "name": "python3"
  },
  "language_info": {
   "codemirror_mode": {
    "name": "ipython",
    "version": 3
   },
   "file_extension": ".py",
   "mimetype": "text/x-python",
   "name": "python",
   "nbconvert_exporter": "python",
   "pygments_lexer": "ipython3",
   "version": "3.6.3"
  },
  "name": "lesson4_part2_Decision_trees.ipynb"
 },
 "nbformat": 4,
 "nbformat_minor": 1
}
